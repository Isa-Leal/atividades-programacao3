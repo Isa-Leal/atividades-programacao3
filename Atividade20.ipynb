{
  "nbformat": 4,
  "nbformat_minor": 0,
  "metadata": {
    "colab": {
      "provenance": [],
      "toc_visible": true,
      "authorship_tag": "ABX9TyM+eo9yzQ5tBN5bvwMnK7NG",
      "include_colab_link": true
    },
    "kernelspec": {
      "name": "python3",
      "display_name": "Python 3"
    },
    "language_info": {
      "name": "python"
    }
  },
  "cells": [
    {
      "cell_type": "markdown",
      "metadata": {
        "id": "view-in-github",
        "colab_type": "text"
      },
      "source": [
        "<a href=\"https://colab.research.google.com/github/Isa-Leal/atividades-programacao3/blob/main/Atividade20.ipynb\" target=\"_parent\"><img src=\"https://colab.research.google.com/assets/colab-badge.svg\" alt=\"Open In Colab\"/></a>"
      ]
    },
    {
      "cell_type": "code",
      "source": [
        "# Escreva um programa que peça ao usuário uma lista de números e, ao final, exiba o maior, o menor, e a média dos números inseridos.\n",
        "\n",
        "def obter_lista_numeros():\n",
        "    lista = []\n",
        "    while True:\n",
        "        try:\n",
        "            numero = input(\"Digite um número (ou 'sair' para finalizar): \")\n",
        "            if numero.lower() == 'sair':\n",
        "                break\n",
        "            else:\n",
        "                lista.append(float(numero))\n",
        "        except ValueError:\n",
        "            print(\"Entrada inválida! Por favor, insira um número válido.\")\n",
        "    return lista\n",
        "\n",
        "def calcular_media(lista):\n",
        "    return sum(lista) / len(lista) if lista else 0\n",
        "\n",
        "# Solicita ao usuário os números\n",
        "numeros = obter_lista_numeros()\n",
        "\n",
        "if numeros:\n",
        "    maior = max(numeros)\n",
        "    menor = min(numeros)\n",
        "    media = calcular_media(numeros)\n",
        "\n",
        "    # Exibe o resultado\n",
        "    print(f\"O maior número é: {maior}\")\n",
        "    print(f\"O menor número é: {menor}\")\n",
        "    print(f\"A média dos números é: {media:.2f}\")\n",
        "else:\n",
        "    print(\"Nenhum número foi inserido.\")\n"
      ],
      "metadata": {
        "id": "FjDp1mTqQh-_"
      },
      "execution_count": null,
      "outputs": []
    }
  ]
}