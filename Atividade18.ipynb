{
  "nbformat": 4,
  "nbformat_minor": 0,
  "metadata": {
    "colab": {
      "provenance": [],
      "toc_visible": true,
      "authorship_tag": "ABX9TyPDrxCmgh1W5mYW32cjHQ3c",
      "include_colab_link": true
    },
    "kernelspec": {
      "name": "python3",
      "display_name": "Python 3"
    },
    "language_info": {
      "name": "python"
    }
  },
  "cells": [
    {
      "cell_type": "markdown",
      "metadata": {
        "id": "view-in-github",
        "colab_type": "text"
      },
      "source": [
        "<a href=\"https://colab.research.google.com/github/Isa-Leal/atividades-programacao3/blob/main/Atividade18.ipynb\" target=\"_parent\"><img src=\"https://colab.research.google.com/assets/colab-badge.svg\" alt=\"Open In Colab\"/></a>"
      ]
    },
    {
      "cell_type": "code",
      "source": [
        "# Desenvolva um programa que conte quantas palavras há em uma frase fornecida pelo usuário.\n",
        "\n",
        "def contar_palavras(frase):\n",
        "    # Divide a frase em palavras usando espaço como delimitador\n",
        "    palavras = frase.split()\n",
        "    # Retorna o número de palavras\n",
        "    return len(palavras)\n",
        "\n",
        "# Solicita uma frase ao usuário\n",
        "frase = input(\"Digite uma frase para contar as palavras: \")\n",
        "\n",
        "# Conta o número de palavras na frase\n",
        "numero_de_palavras = contar_palavras(frase)\n",
        "\n",
        "# Exibe o resultado\n",
        "print(f\"A frase contém {numero_de_palavras} palavras.\")\n"
      ],
      "metadata": {
        "id": "yAbcA6j0OmQj"
      },
      "execution_count": null,
      "outputs": []
    }
  ]
}