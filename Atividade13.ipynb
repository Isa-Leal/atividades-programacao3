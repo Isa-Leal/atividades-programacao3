{
  "nbformat": 4,
  "nbformat_minor": 0,
  "metadata": {
    "colab": {
      "provenance": [],
      "toc_visible": true,
      "authorship_tag": "ABX9TyPo5C0UWNDZg0x25Ww8SZOm",
      "include_colab_link": true
    },
    "kernelspec": {
      "name": "python3",
      "display_name": "Python 3"
    },
    "language_info": {
      "name": "python"
    }
  },
  "cells": [
    {
      "cell_type": "markdown",
      "metadata": {
        "id": "view-in-github",
        "colab_type": "text"
      },
      "source": [
        "<a href=\"https://colab.research.google.com/github/Isa-Leal/atividades-programacao3/blob/main/Atividade13.ipynb\" target=\"_parent\"><img src=\"https://colab.research.google.com/assets/colab-badge.svg\" alt=\"Open In Colab\"/></a>"
      ]
    },
    {
      "cell_type": "code",
      "source": [
        "# : Escreva um programa que calcule a soma de todos os números pares entre 1 e\n",
        "100.\n",
        "\n",
        "soma_pares = 0\n",
        "\n",
        "# Itera de 1 a 100\n",
        "for numero in range(1, 101):\n",
        "    if numero % 2 == 0:  # Verifica se o número é par\n",
        "        soma_pares += numero  # Adiciona o número par à soma\n",
        "\n",
        "# Exibe o resultado\n",
        "print(\"A soma de todos os números pares entre 1 e 100 é:\", soma_pares)\n"
      ],
      "metadata": {
        "id": "Asjhehmzw1V3"
      },
      "execution_count": null,
      "outputs": []
    }
  ]
}