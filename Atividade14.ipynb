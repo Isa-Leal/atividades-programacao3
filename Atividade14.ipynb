{
  "nbformat": 4,
  "nbformat_minor": 0,
  "metadata": {
    "colab": {
      "provenance": [],
      "toc_visible": true,
      "authorship_tag": "ABX9TyP9CRo/5KKynPVJVIKGH+Hc",
      "include_colab_link": true
    },
    "kernelspec": {
      "name": "python3",
      "display_name": "Python 3"
    },
    "language_info": {
      "name": "python"
    }
  },
  "cells": [
    {
      "cell_type": "markdown",
      "metadata": {
        "id": "view-in-github",
        "colab_type": "text"
      },
      "source": [
        "<a href=\"https://colab.research.google.com/github/Isa-Leal/atividades-programacao3/blob/main/Atividade14.ipynb\" target=\"_parent\"><img src=\"https://colab.research.google.com/assets/colab-badge.svg\" alt=\"Open In Colab\"/></a>"
      ]
    },
    {
      "cell_type": "code",
      "source": [
        "# Crie um programa que funcione como uma calculadora simples, pedindo ao usuário dois números e a operação que deseja realizar.\n",
        "\n",
        "# Solicita os dois números e a operação ao usuário\n",
        "numero1 = float(input(\"Digite o primeiro número: \"))\n",
        "numero2 = float(input(\"Digite o segundo número: \"))\n",
        "operacao = input(\"Digite a operação (+, -, *, /): \")\n",
        "\n",
        "# Verifica a operação e realiza o cálculo correspondente\n",
        "if operacao == \"+\":\n",
        "    resultado = numero1 + numero2\n",
        "elif operacao == \"-\":\n",
        "    resultado = numero1 - numero2\n",
        "elif operacao == \"*\":\n",
        "    resultado = numero1 * numero2\n",
        "elif operacao == \"/\":\n",
        "    if numero2 != 0:\n",
        "        resultado = numero1 / numero2\n",
        "    else:\n",
        "        resultado = \"Erro: Divisão por zero!\"\n",
        "else:\n",
        "    resultado = \"Operação inválida!\"\n",
        "\n",
        "# Exibe o resultado\n",
        "print(\"Resultado:\", resultado)\n"
      ],
      "metadata": {
        "id": "pKiplnHLyvG0"
      },
      "execution_count": null,
      "outputs": []
    }
  ]
}