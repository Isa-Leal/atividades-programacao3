{
  "nbformat": 4,
  "nbformat_minor": 0,
  "metadata": {
    "colab": {
      "provenance": [],
      "toc_visible": true,
      "authorship_tag": "ABX9TyPbZm7Q8dC4qr8bYGJ3qu3d",
      "include_colab_link": true
    },
    "kernelspec": {
      "name": "python3",
      "display_name": "Python 3"
    },
    "language_info": {
      "name": "python"
    }
  },
  "cells": [
    {
      "cell_type": "markdown",
      "metadata": {
        "id": "view-in-github",
        "colab_type": "text"
      },
      "source": [
        "<a href=\"https://colab.research.google.com/github/Isa-Leal/atividades-programacao3/blob/main/Atividade04.ipynb\" target=\"_parent\"><img src=\"https://colab.research.google.com/assets/colab-badge.svg\" alt=\"Open In Colab\"/></a>"
      ]
    },
    {
      "cell_type": "code",
      "source": [
        "def verificar_palindromo(frase):\n",
        "    # Remover espaços e converter para minúsculas para comparar de forma insensível a maiúsculas/minúsculas\n",
        "    frase = frase.replace(\" \", \"\").lower()\n",
        "\n",
        "    # Verificar se a frase é igual à sua versão invertida\n",
        "    if frase == frase[::-1]:\n",
        "        return \"É um palíndromo!\"\n",
        "    else:\n",
        "        return \"Não é um palíndromo.\"\n",
        "\n",
        "# Solicitar ao usuário que insira uma palavra ou frase\n",
        "entrada = input(\"Digite uma palavra ou frase para verificar se é um palíndromo: \")\n",
        "resultado = verificar_palindromo(entrada)\n",
        "print(resultado)\n"
      ],
      "metadata": {
        "id": "oSQPcAy46ePy"
      },
      "execution_count": null,
      "outputs": []
    }
  ]
}