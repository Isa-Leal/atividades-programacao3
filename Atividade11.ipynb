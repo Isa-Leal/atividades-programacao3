{
  "nbformat": 4,
  "nbformat_minor": 0,
  "metadata": {
    "colab": {
      "provenance": [],
      "toc_visible": true,
      "authorship_tag": "ABX9TyM8F1JvZf6CZfr7Uxg/fJE8",
      "include_colab_link": true
    },
    "kernelspec": {
      "name": "python3",
      "display_name": "Python 3"
    },
    "language_info": {
      "name": "python"
    }
  },
  "cells": [
    {
      "cell_type": "markdown",
      "metadata": {
        "id": "view-in-github",
        "colab_type": "text"
      },
      "source": [
        "<a href=\"https://colab.research.google.com/github/Isa-Leal/atividades-programacao3/blob/main/Atividade11.ipynb\" target=\"_parent\"><img src=\"https://colab.research.google.com/assets/colab-badge.svg\" alt=\"Open In Colab\"/></a>"
      ]
    },
    {
      "cell_type": "code",
      "source": [
        "# Solicita três números ao usuário\n",
        "numero1 = int(input(\"Digite o primeiro número: \"))\n",
        "numero2 = int(input(\"Digite o segundo número: \"))\n",
        "numero3 = int(input(\"Digite o terceiro número: \"))\n",
        "\n",
        "# Ordena os números em ordem crescente\n",
        "if numero1 > numero2:\n",
        "    numero1, numero2 = numero2, numero1\n",
        "if numero1 > numero3:\n",
        "    numero1, numero3 = numero3, numero1\n",
        "if numero2 > numero3:\n",
        "    numero2, numero3 = numero3, numero2\n",
        "\n",
        "# Exibe os números em ordem crescente\n",
        "print(f\"Os números em ordem crescente são: {numero1}, {numero2}, {numero3}\")\n"
      ],
      "metadata": {
        "id": "fNZ3vE0NnZM_"
      },
      "execution_count": null,
      "outputs": []
    }
  ]
}