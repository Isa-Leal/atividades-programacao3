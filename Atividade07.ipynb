{
  "nbformat": 4,
  "nbformat_minor": 0,
  "metadata": {
    "colab": {
      "provenance": [],
      "toc_visible": true,
      "authorship_tag": "ABX9TyPvjL0US3gzyBDiK1utakR8",
      "include_colab_link": true
    },
    "kernelspec": {
      "name": "python3",
      "display_name": "Python 3"
    },
    "language_info": {
      "name": "python"
    }
  },
  "cells": [
    {
      "cell_type": "markdown",
      "metadata": {
        "id": "view-in-github",
        "colab_type": "text"
      },
      "source": [
        "<a href=\"https://colab.research.google.com/github/Isa-Leal/atividades-programacao3/blob/main/Atividade07.ipynb\" target=\"_parent\"><img src=\"https://colab.research.google.com/assets/colab-badge.svg\" alt=\"Open In Colab\"/></a>"
      ]
    },
    {
      "cell_type": "code",
      "source": [
        "# Inicializa as variáveis para soma das notas e contador de notas\n",
        "soma_notas = 0\n",
        "contador_notas = 0\n",
        "\n",
        "# Solicita notas ao usuário até que ele digite -1\n",
        "while True:\n",
        "    nota = float(input(\"Digite uma nota (ou -1 para parar): \"))\n",
        "\n",
        "    # Se a nota for -1, sai do loop\n",
        "    if nota == -1:\n",
        "        break\n",
        "\n",
        "    # Adiciona a nota à soma e incrementa o contador\n",
        "    soma_notas += nota\n",
        "    contador_notas += 1\n",
        "\n",
        "# Verifica se o número de notas é maior que 0 para evitar divisão por zero\n",
        "if contador_notas > 0:\n",
        "    # Calcula a média\n",
        "    media = soma_notas / contador_notas\n",
        "    print(f\"A média das notas é: {media:.2f}\")\n",
        "else:\n",
        "    print(\"Nenhuma nota foi inserida.\")\n"
      ],
      "metadata": {
        "id": "HMU2T6uh-1R2"
      },
      "execution_count": null,
      "outputs": []
    }
  ]
}