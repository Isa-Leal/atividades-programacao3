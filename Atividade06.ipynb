{
  "nbformat": 4,
  "nbformat_minor": 0,
  "metadata": {
    "colab": {
      "provenance": [],
      "toc_visible": true,
      "authorship_tag": "ABX9TyMq8sCdRinROeaaI+Eex/g9",
      "include_colab_link": true
    },
    "kernelspec": {
      "name": "python3",
      "display_name": "Python 3"
    },
    "language_info": {
      "name": "python"
    }
  },
  "cells": [
    {
      "cell_type": "markdown",
      "metadata": {
        "id": "view-in-github",
        "colab_type": "text"
      },
      "source": [
        "<a href=\"https://colab.research.google.com/github/Isa-Leal/atividades-programacao3/blob/main/Atividade06.ipynb\" target=\"_parent\"><img src=\"https://colab.research.google.com/assets/colab-badge.svg\" alt=\"Open In Colab\"/></a>"
      ]
    },
    {
      "cell_type": "code",
      "source": [
        "# Solicita uma frase ao usuário\n",
        "frase = input(\"Digite uma frase: \")\n",
        "\n",
        "# Converte a frase para minúsculas para facilitar a contagem (caso o usuário use letras maiúsculas)\n",
        "frase = frase.lower()\n",
        "\n",
        "# Define as vogais\n",
        "vogais = \"aeiou\"\n",
        "\n",
        "# Inicializa a contagem de vogais\n",
        "contagem_vogais = 0\n",
        "\n",
        "# Percorre cada caractere da frase\n",
        "for letra in frase:\n",
        "    # Se o caractere for uma vogal, incrementa a contagem\n",
        "    if letra in vogais:\n",
        "        contagem_vogais += 1\n",
        "\n",
        "# Exibe a quantidade de vogais na frase\n",
        "print(f\"A frase contém {contagem_vogais} vogais.\")\n"
      ],
      "metadata": {
        "id": "5pI2E4Gp9-7r"
      },
      "execution_count": null,
      "outputs": []
    }
  ]
}