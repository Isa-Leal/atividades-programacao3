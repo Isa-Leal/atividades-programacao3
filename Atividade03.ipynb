{
  "nbformat": 4,
  "nbformat_minor": 0,
  "metadata": {
    "colab": {
      "provenance": [],
      "toc_visible": true,
      "authorship_tag": "ABX9TyPiFCwzBTAVMzx3Wgy0q88q",
      "include_colab_link": true
    },
    "kernelspec": {
      "name": "python3",
      "display_name": "Python 3"
    },
    "language_info": {
      "name": "python"
    }
  },
  "cells": [
    {
      "cell_type": "markdown",
      "metadata": {
        "id": "view-in-github",
        "colab_type": "text"
      },
      "source": [
        "<a href=\"https://colab.research.google.com/github/Isa-Leal/atividades-programacao3/blob/main/Atividade03.ipynb\" target=\"_parent\"><img src=\"https://colab.research.google.com/assets/colab-badge.svg\" alt=\"Open In Colab\"/></a>"
      ]
    },
    {
      "cell_type": "code",
      "source": [
        "# Função para calcular o IMC\n",
        "def calcular_imc(peso, altura):\n",
        "    # Fórmula do IMC\n",
        "    imc = peso / (altura * altura)\n",
        "    return imc\n",
        "\n",
        "# Entrada de dados\n",
        "peso = float(input(\"Digite o peso em quilogramas (kg): \"))\n",
        "altura = float(input(\"Digite a altura em metros (m): \"))\n",
        "\n",
        "# Chama a função de cálculo do IMC\n",
        "imc = calcular_imc(peso, altura)\n",
        "\n",
        "# Exibe o resultado\n",
        "print(f\"O seu IMC é: {imc:.2f}\")\n"
      ],
      "metadata": {
        "colab": {
          "base_uri": "https://localhost:8080/"
        },
        "id": "d2WEa1ix309g",
        "outputId": "82cf6087-1bec-4559-9234-330cb3ac467c"
      },
      "execution_count": 9,
      "outputs": [
        {
          "output_type": "stream",
          "name": "stdout",
          "text": [
            "Digite o peso em quilogramas (kg): 58\n",
            "Digite a altura em metros (m): 1.60\n",
            "O seu IMC é: 22.66\n"
          ]
        }
      ]
    }
  ]
}