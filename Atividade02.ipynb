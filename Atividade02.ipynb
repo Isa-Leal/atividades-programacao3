{
  "nbformat": 4,
  "nbformat_minor": 0,
  "metadata": {
    "colab": {
      "provenance": [],
      "authorship_tag": "ABX9TyM3NMGVrW2tN+AtSnKfbcC3",
      "include_colab_link": true
    },
    "kernelspec": {
      "name": "python3",
      "display_name": "Python 3"
    },
    "language_info": {
      "name": "python"
    }
  },
  "cells": [
    {
      "cell_type": "markdown",
      "metadata": {
        "id": "view-in-github",
        "colab_type": "text"
      },
      "source": [
        "<a href=\"https://colab.research.google.com/github/Isa-Leal/atividades-programacao3/blob/main/Atividade02.ipynb\" target=\"_parent\"><img src=\"https://colab.research.google.com/assets/colab-badge.svg\" alt=\"Open In Colab\"/></a>"
      ]
    },
    {
      "cell_type": "code",
      "execution_count": 3,
      "metadata": {
        "colab": {
          "base_uri": "https://localhost:8080/"
        },
        "id": "x-gMoRXF2L_A",
        "outputId": "a2d0c4c4-19ba-4aac-fc80-5a00fb7f2c17"
      },
      "outputs": [
        {
          "output_type": "stream",
          "name": "stdout",
          "text": [
            "Digite a temperatura em Celsius: 27\n",
            "27.0°C é igual a 80.6°F e 300.15 K\n"
          ]
        }
      ],
      "source": [
        "# Função para conversão de Celsius para Fahrenheit e Kelvin\n",
        "def converter_temperaturas(celsius):\n",
        "    # Fórmula de conversão para Fahrenheit\n",
        "    fahrenheit = (celsius * 9/5) + 32\n",
        "    # Fórmula de conversão para Kelvin\n",
        "    kelvin = celsius + 273.15\n",
        "    return fahrenheit, kelvin\n",
        "\n",
        "# Entrada de dados\n",
        "temperatura_celsius = float(input(\"Digite a temperatura em Celsius: \"))\n",
        "\n",
        "# Chama a função de conversão\n",
        "fahrenheit, kelvin = converter_temperaturas(temperatura_celsius)\n",
        "\n",
        "# Exibe os resultados\n",
        "print(f\"{temperatura_celsius}°C é igual a {fahrenheit}°F e {kelvin} K\")\n"
      ]
    }
  ]
}