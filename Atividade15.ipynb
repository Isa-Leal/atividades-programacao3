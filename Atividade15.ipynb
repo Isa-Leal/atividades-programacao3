{
  "nbformat": 4,
  "nbformat_minor": 0,
  "metadata": {
    "colab": {
      "provenance": [],
      "toc_visible": true,
      "authorship_tag": "ABX9TyNiwtwgDaPhgTRQnjjRfeAs",
      "include_colab_link": true
    },
    "kernelspec": {
      "name": "python3",
      "display_name": "Python 3"
    },
    "language_info": {
      "name": "python"
    }
  },
  "cells": [
    {
      "cell_type": "markdown",
      "metadata": {
        "id": "view-in-github",
        "colab_type": "text"
      },
      "source": [
        "<a href=\"https://colab.research.google.com/github/Isa-Leal/atividades-programacao3/blob/main/Atividade15.ipynb\" target=\"_parent\"><img src=\"https://colab.research.google.com/assets/colab-badge.svg\" alt=\"Open In Colab\"/></a>"
      ]
    },
    {
      "cell_type": "code",
      "source": [
        "# Escreva um programa que peça ao usuário um número n e calcule a soma dos primeiros n números naturais.\n",
        "\n",
        "# Solicita o número n ao usuário\n",
        "n = int(input(\"Digite um número n para calcular a soma dos primeiros n números naturais: \"))\n",
        "\n",
        "# Inicializa a variável para armazenar a soma\n",
        "soma = 0\n",
        "\n",
        "# Itera de 1 até n, acumulando a soma\n",
        "for i in range(1, n + 1):\n",
        "    soma += i\n",
        "\n",
        "# Exibe o resultado\n",
        "print(f\"A soma dos primeiros {n} números naturais é: {soma}\")"
      ],
      "metadata": {
        "id": "dqBoVlqA1Kxt"
      },
      "execution_count": null,
      "outputs": []
    }
  ]
}