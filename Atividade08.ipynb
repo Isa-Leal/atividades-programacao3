{
  "nbformat": 4,
  "nbformat_minor": 0,
  "metadata": {
    "colab": {
      "provenance": [],
      "toc_visible": true,
      "authorship_tag": "ABX9TyNDOi6Dc8uwWKYbI3bxuKu8",
      "include_colab_link": true
    },
    "kernelspec": {
      "name": "python3",
      "display_name": "Python 3"
    },
    "language_info": {
      "name": "python"
    }
  },
  "cells": [
    {
      "cell_type": "markdown",
      "metadata": {
        "id": "view-in-github",
        "colab_type": "text"
      },
      "source": [
        "<a href=\"https://colab.research.google.com/github/Isa-Leal/atividades-programacao3/blob/main/Atividade08.ipynb\" target=\"_parent\"><img src=\"https://colab.research.google.com/assets/colab-badge.svg\" alt=\"Open In Colab\"/></a>"
      ]
    },
    {
      "cell_type": "code",
      "source": [
        "# Função para gerar e exibir os primeiros n números da sequência de Fibonacci\n",
        "def fibonacci(n):\n",
        "    # Os primeiros dois números da sequência são sempre 0 e 1\n",
        "    fib = [0, 1]\n",
        "\n",
        "    # Se n for 1, retorna apenas o primeiro número (0)\n",
        "    if n == 1:\n",
        "        return [0]\n",
        "\n",
        "    # Calcula os próximos números da sequência até o enésimo\n",
        "    for i in range(2, n):\n",
        "        # O próximo número é a soma dos dois últimos\n",
        "        fib.append(fib[-1] + fib[-2])\n",
        "\n",
        "    return fib\n",
        "\n",
        "# Solicita ao usuário o número de termos da sequência\n",
        "n = int(input(\"Digite quantos números da sequência de Fibonacci você deseja ver: \"))\n",
        "\n",
        "# Gera a sequência e exibe os números\n",
        "sequencia_fibonacci = fibonacci(n)\n",
        "print(f\"Os primeiros {n} números da sequência de Fibonacci são: {sequencia_fibonacci}\")\n"
      ],
      "metadata": {
        "id": "owcrtfnl_ojS"
      },
      "execution_count": null,
      "outputs": []
    }
  ]
}