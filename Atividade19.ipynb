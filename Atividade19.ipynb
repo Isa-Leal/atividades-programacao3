{
  "nbformat": 4,
  "nbformat_minor": 0,
  "metadata": {
    "colab": {
      "provenance": [],
      "toc_visible": true,
      "authorship_tag": "ABX9TyPnhZdqn998D8t/7Xf51Z3G",
      "include_colab_link": true
    },
    "kernelspec": {
      "name": "python3",
      "display_name": "Python 3"
    },
    "language_info": {
      "name": "python"
    }
  },
  "cells": [
    {
      "cell_type": "markdown",
      "metadata": {
        "id": "view-in-github",
        "colab_type": "text"
      },
      "source": [
        "<a href=\"https://colab.research.google.com/github/Isa-Leal/atividades-programacao3/blob/main/Atividade19.ipynb\" target=\"_parent\"><img src=\"https://colab.research.google.com/assets/colab-badge.svg\" alt=\"Open In Colab\"/></a>"
      ]
    },
    {
      "cell_type": "code",
      "source": [
        "# Crie um programa que calcule a média ponderada de três notas fornecidas pelo usuário, considerando os pesos 2, 3 e 5.\n",
        "\n",
        "def calcular_media_ponderada(nota1, nota2, nota3, peso1, peso2, peso3):\n",
        "    # Calcula a soma ponderada das notas e divide pela soma dos pesos\n",
        "    soma_ponderada = (nota1 * peso1) + (nota2 * peso2) + (nota3 * peso3)\n",
        "    soma_pesos = peso1 + peso2 + peso3\n",
        "    media_ponderada = soma_ponderada / soma_pesos\n",
        "    return media_ponderada\n",
        "\n",
        "def obter_nota_valida(prompt):\n",
        "    while True:\n",
        "        try:\n",
        "            nota = float(input(prompt))\n",
        "            if 0 <= nota <= 10:\n",
        "                return nota\n",
        "            else:\n",
        "                print(\"Nota inválida! A nota deve ser entre 0 e 10.\")\n",
        "        except ValueError:\n",
        "            print(\"Entrada inválida! Por favor, insira um número válido.\")\n",
        "\n",
        "# Solicita as três notas ao usuário\n",
        "nota1 = obter_nota_valida(\"Digite a primeira nota (0 a 10): \")\n",
        "nota2 = obter_nota_valida(\"Digite a segunda nota (0 a 10): \")\n",
        "nota3 = obter_nota_valida(\"Digite a terceira nota (0 a 10): \")\n",
        "\n",
        "# Definindo os pesos\n",
        "peso1 = 2\n",
        "peso2 = 3\n",
        "peso3 = 5\n",
        "\n",
        "# Calcula a média ponderada\n",
        "media = calcular_media_ponderada(nota1, nota2, nota3, peso1, peso2, peso3)\n",
        "\n",
        "# Exibe o resultado\n",
        "print(f\"A média ponderada das notas é: {media:.2f}\")\n"
      ],
      "metadata": {
        "id": "rQo86AEjPZbX"
      },
      "execution_count": null,
      "outputs": []
    }
  ]
}