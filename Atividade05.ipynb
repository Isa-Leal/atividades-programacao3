{
  "nbformat": 4,
  "nbformat_minor": 0,
  "metadata": {
    "colab": {
      "provenance": [],
      "toc_visible": true,
      "authorship_tag": "ABX9TyPdHdBaXKlf30bw9glTOVZf",
      "include_colab_link": true
    },
    "kernelspec": {
      "name": "python3",
      "display_name": "Python 3"
    },
    "language_info": {
      "name": "python"
    }
  },
  "cells": [
    {
      "cell_type": "markdown",
      "metadata": {
        "id": "view-in-github",
        "colab_type": "text"
      },
      "source": [
        "<a href=\"https://colab.research.google.com/github/Isa-Leal/atividades-programacao3/blob/main/Atividade05.ipynb\" target=\"_parent\"><img src=\"https://colab.research.google.com/assets/colab-badge.svg\" alt=\"Open In Colab\"/></a>"
      ]
    },
    {
      "cell_type": "code",
      "source": [
        "def exibir_tabuada(numero):\n",
        "    for i in range(1, 11):\n",
        "        resultado = numero * i\n",
        "        print(f\"{numero} x {i} = {resultado}\")\n",
        "\n",
        "# Solicitar ao usuário que insira um número\n",
        "numero_usuario = int(input(\"Digite um número para exibir sua tabuada: \"))\n",
        "exibir_tabuada(numero_usuario)\n"
      ],
      "metadata": {
        "id": "gdKHzm978GjM"
      },
      "execution_count": null,
      "outputs": []
    }
  ]
}