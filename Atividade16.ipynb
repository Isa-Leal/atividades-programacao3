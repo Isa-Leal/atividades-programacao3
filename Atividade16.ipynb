{
  "nbformat": 4,
  "nbformat_minor": 0,
  "metadata": {
    "colab": {
      "provenance": [],
      "toc_visible": true,
      "authorship_tag": "ABX9TyNbRMm/+nEnkgFdEJkz2lkl",
      "include_colab_link": true
    },
    "kernelspec": {
      "name": "python3",
      "display_name": "Python 3"
    },
    "language_info": {
      "name": "python"
    }
  },
  "cells": [
    {
      "cell_type": "markdown",
      "metadata": {
        "id": "view-in-github",
        "colab_type": "text"
      },
      "source": [
        "<a href=\"https://colab.research.google.com/github/Isa-Leal/atividades-programacao3/blob/main/Atividade16.ipynb\" target=\"_parent\"><img src=\"https://colab.research.google.com/assets/colab-badge.svg\" alt=\"Open In Colab\"/></a>"
      ]
    },
    {
      "cell_type": "code",
      "source": [
        "# Solicitação: Crie um programa que peça uma string ao usuário e a exiba invertida.\n",
        "\n",
        "# Solicita uma string ao usuário\n",
        "texto = input(\"Digite uma string: \")\n",
        "\n",
        "# Inverte a string usando slicing\n",
        "texto_invertido = texto[::-1]\n",
        "\n",
        "# Exibe a string invertida\n",
        "print(f\"A string invertida é: {texto_invertido}\")\n"
      ],
      "metadata": {
        "id": "a5CND8VCDIO8"
      },
      "execution_count": null,
      "outputs": []
    }
  ]
}