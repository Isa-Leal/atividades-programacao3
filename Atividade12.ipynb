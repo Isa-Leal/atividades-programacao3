{
  "nbformat": 4,
  "nbformat_minor": 0,
  "metadata": {
    "colab": {
      "provenance": [],
      "toc_visible": true,
      "authorship_tag": "ABX9TyMZd3wM+lvyMy8Cb644NnId",
      "include_colab_link": true
    },
    "kernelspec": {
      "name": "python3",
      "display_name": "Python 3"
    },
    "language_info": {
      "name": "python"
    }
  },
  "cells": [
    {
      "cell_type": "markdown",
      "metadata": {
        "id": "view-in-github",
        "colab_type": "text"
      },
      "source": [
        "<a href=\"https://colab.research.google.com/github/Isa-Leal/atividades-programacao3/blob/main/Atividade12.ipynb\" target=\"_parent\"><img src=\"https://colab.research.google.com/assets/colab-badge.svg\" alt=\"Open In Colab\"/></a>"
      ]
    },
    {
      "cell_type": "code",
      "source": [
        "import random\n",
        "\n",
        "# Gera um número aleatório entre 1 e 100\n",
        "numero_secreto = random.randint(1, 100)\n",
        "\n",
        "# Inicia o contador de tentativas\n",
        "tentativas = 0\n",
        "\n",
        "# Mensagem de boas-vindas\n",
        "print(\"Bem-vindo ao Jogo de Adivinhação!\")\n",
        "print(\"Tente adivinhar o número secreto entre 1 e 100.\")\n",
        "\n",
        "# Loop para permitir que o usuário faça palpites até acertar\n",
        "while True:\n",
        "    # Solicita o palpite ao usuário\n",
        "    palpite = int(input(\"Digite seu palpite: \"))\n",
        "    tentativas += 1\n",
        "\n",
        "    # Verifica se o palpite está correto\n",
        "    if palpite < numero_secreto:\n",
        "        print(\"O número secreto é maior. Tente novamente.\")\n",
        "    elif palpite > numero_secreto:\n",
        "        print(\"O número secreto é menor. Tente novamente.\")\n",
        "    else:\n",
        "        print(f\"Parabéns! Você acertou o número secreto {numero_secreto} em {tentativas} tentativas.\")\n",
        "        break\n"
      ],
      "metadata": {
        "id": "Zz67VeJ-sQlK"
      },
      "execution_count": null,
      "outputs": []
    }
  ]
}