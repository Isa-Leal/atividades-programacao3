{
  "nbformat": 4,
  "nbformat_minor": 0,
  "metadata": {
    "colab": {
      "provenance": [],
      "toc_visible": true,
      "authorship_tag": "ABX9TyPgrJLfsnjB+4siSriufz1B",
      "include_colab_link": true
    },
    "kernelspec": {
      "name": "python3",
      "display_name": "Python 3"
    },
    "language_info": {
      "name": "python"
    }
  },
  "cells": [
    {
      "cell_type": "markdown",
      "metadata": {
        "id": "view-in-github",
        "colab_type": "text"
      },
      "source": [
        "<a href=\"https://colab.research.google.com/github/Isa-Leal/atividades-programacao3/blob/main/Atividade17.ipynb\" target=\"_parent\"><img src=\"https://colab.research.google.com/assets/colab-badge.svg\" alt=\"Open In Colab\"/></a>"
      ]
    },
    {
      "cell_type": "code",
      "source": [
        "# Escreva um programa que verifique se um número dado é um número perfeito.\n",
        "\n",
        "def verificar_numero_perfeito(numero):\n",
        "    # Inicializa a soma dos divisores próprios\n",
        "    soma_divisores = 0\n",
        "\n",
        "    # Encontra os divisores próprios (excluindo o próprio número)\n",
        "    for i in range(1, numero):\n",
        "        if numero % i == 0:\n",
        "            soma_divisores += i\n",
        "\n",
        "    # Verifica se a soma dos divisores é igual ao número\n",
        "    return soma_divisores == numero\n",
        "\n",
        "def obter_numero_valido(prompt):\n",
        "    while True:\n",
        "        try:\n",
        "            numero = int(input(prompt))\n",
        "            if numero < 1:\n",
        "                print(\"Por favor, insira um número inteiro positivo.\")\n",
        "            else:\n",
        "                return numero\n",
        "        except ValueError:\n",
        "            print(\"Entrada inválida. Por favor, insira um número inteiro válido.\")\n",
        "\n",
        "# Solicita um número ao usuário\n",
        "numero = obter_numero_valido(\"Digite um número inteiro para verificar se é perfeito: \")\n",
        "\n",
        "# Verifica se o número é perfeito\n",
        "if verificar_numero_perfeito(numero):\n",
        "    print(f\"{numero} é um número perfeito!\")\n",
        "else:\n",
        "    print(f\"{numero} não é um número perfeito.\")\n"
      ],
      "metadata": {
        "id": "CW6uAsvaD7qY"
      },
      "execution_count": null,
      "outputs": []
    }
  ]
}